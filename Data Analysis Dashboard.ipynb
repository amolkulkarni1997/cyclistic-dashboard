{
 "cells": [
  {
   "cell_type": "code",
   "execution_count": 1,
   "id": "10f9d9e8",
   "metadata": {},
   "outputs": [],
   "source": [
    "import pandas as pd\n",
    "import matplotlib.pyplot as plt\n",
    "import seaborn as sns"
   ]
  },
  {
   "cell_type": "code",
   "execution_count": 2,
   "id": "0ba918c9",
   "metadata": {},
   "outputs": [],
   "source": [
    "# Load the datasets\n",
    "df_trips = pd.read_csv(\"divvy_trips.csv\")\n",
    "df_stations = pd.read_csv(\"divvy_stations.csv\")"
   ]
  },
  {
   "cell_type": "code",
   "execution_count": 3,
   "id": "e7ae42d9",
   "metadata": {},
   "outputs": [
    {
     "name": "stdout",
     "output_type": "stream",
     "text": [
      "            ride_id  rideable_type           started_at             ended_at  \\\n",
      "0  0A1B623926EF4E16    docked_bike  2021-07-02 14:44:36  2021-07-02 15:19:58   \n",
      "1  B2D5583A5A5E76EE   classic_bike  2021-07-07 16:57:42  2021-07-07 17:16:09   \n",
      "2  6F264597DDBF427A   classic_bike  2021-07-25 11:30:55  2021-07-25 11:48:45   \n",
      "3  379B58EAB20E8AA5   classic_bike  2021-07-08 22:08:30  2021-07-08 22:23:32   \n",
      "4  6615C1E4EB08E8FB  electric_bike  2021-07-28 16:08:06  2021-07-28 16:27:09   \n",
      "\n",
      "             start_station_name start_station_id  \\\n",
      "0  Michigan Ave & Washington St            13001   \n",
      "1    California Ave & Cortez St            17660   \n",
      "2          Wabash Ave & 16th St           SL-012   \n",
      "3    California Ave & Cortez St            17660   \n",
      "4    California Ave & Cortez St            17660   \n",
      "\n",
      "                 end_station_name end_station_id  start_lat  start_lng  \\\n",
      "0    Halsted St & North Branch St   KA1504000117  41.883984 -87.624684   \n",
      "1            Wood St & Hubbard St          13432  41.900363 -87.696704   \n",
      "2            Rush St & Hubbard St   KA1503000044  41.860384 -87.625813   \n",
      "3         Carpenter St & Huron St          13196  41.900363 -87.696704   \n",
      "4  Elizabeth (May) St & Fulton St          13197  41.900350 -87.696682   \n",
      "\n",
      "     end_lat    end_lng member_casual  \n",
      "0  41.899368 -87.648480        casual  \n",
      "1  41.889899 -87.671473        casual  \n",
      "2  41.890173 -87.626185        member  \n",
      "3  41.894556 -87.653449        member  \n",
      "4  41.886593 -87.658387        casual  \n",
      "                                     ID                   Station Name  \\\n",
      "0  a3aa5ed1-a135-11e9-9cda-0a87ae2ba916      Damen Ave & Charleston St   \n",
      "1  a3b11480-a135-11e9-9cda-0a87ae2ba916        Laramie Ave & Kinzie St   \n",
      "2  a3ae82e0-a135-11e9-9cda-0a87ae2ba916               Warren Park West   \n",
      "3                   1872721624592814362  Lockwood Ave & Wrightwood Ave   \n",
      "4  a3b3686c-a135-11e9-9cda-0a87ae2ba916     California Ave & Cortez St   \n",
      "\n",
      "  Short Name  Total Docks  Docks in Service      Status   Latitude  Longitude  \\\n",
      "0      13288           11                11  In Service  41.920082 -87.677855   \n",
      "1        530           11                11  In Service  41.887832 -87.755527   \n",
      "2     RP-001           11                11  In Service  42.001785 -87.688829   \n",
      "3      21312           15                15  In Service  41.927766 -87.758544   \n",
      "4      17660           15                15  In Service  41.900363 -87.696704   \n",
      "\n",
      "                       Location  \n",
      "0  POINT (-87.677855 41.920082)  \n",
      "1  POINT (-87.755527 41.887832)  \n",
      "2  POINT (-87.688829 42.001785)  \n",
      "3  POINT (-87.758544 41.927766)  \n",
      "4  POINT (-87.696704 41.900363)  \n"
     ]
    }
   ],
   "source": [
    "# Display first few rows\n",
    "print(df_trips.head())\n",
    "print(df_stations.head())"
   ]
  },
  {
   "cell_type": "code",
   "execution_count": 4,
   "id": "27c0c6fb",
   "metadata": {},
   "outputs": [
    {
     "name": "stdout",
     "output_type": "stream",
     "text": [
      "<class 'pandas.core.frame.DataFrame'>\n",
      "RangeIndex: 822410 entries, 0 to 822409\n",
      "Data columns (total 13 columns):\n",
      " #   Column              Non-Null Count   Dtype  \n",
      "---  ------              --------------   -----  \n",
      " 0   ride_id             822410 non-null  object \n",
      " 1   rideable_type       822410 non-null  object \n",
      " 2   started_at          822410 non-null  object \n",
      " 3   ended_at            822410 non-null  object \n",
      " 4   start_station_name  735147 non-null  object \n",
      " 5   start_station_id    735148 non-null  object \n",
      " 6   end_station_name    729252 non-null  object \n",
      " 7   end_station_id      729252 non-null  object \n",
      " 8   start_lat           822410 non-null  float64\n",
      " 9   start_lng           822410 non-null  float64\n",
      " 10  end_lat             821679 non-null  float64\n",
      " 11  end_lng             821679 non-null  float64\n",
      " 12  member_casual       822410 non-null  object \n",
      "dtypes: float64(4), object(9)\n",
      "memory usage: 81.6+ MB\n",
      "None\n",
      "<class 'pandas.core.frame.DataFrame'>\n",
      "RangeIndex: 1041 entries, 0 to 1040\n",
      "Data columns (total 9 columns):\n",
      " #   Column            Non-Null Count  Dtype  \n",
      "---  ------            --------------  -----  \n",
      " 0   ID                1041 non-null   object \n",
      " 1   Station Name      1041 non-null   object \n",
      " 2   Short Name        942 non-null    object \n",
      " 3   Total Docks       1041 non-null   int64  \n",
      " 4   Docks in Service  1041 non-null   int64  \n",
      " 5   Status            1041 non-null   object \n",
      " 6   Latitude          1041 non-null   float64\n",
      " 7   Longitude         1041 non-null   float64\n",
      " 8   Location          1041 non-null   object \n",
      "dtypes: float64(2), int64(2), object(5)\n",
      "memory usage: 73.3+ KB\n",
      "None\n"
     ]
    }
   ],
   "source": [
    "print(df_trips.info())  # Column types, missing values\n",
    "print(df_stations.info())  "
   ]
  },
  {
   "cell_type": "code",
   "execution_count": 5,
   "id": "eca403b2",
   "metadata": {},
   "outputs": [
    {
     "name": "stdout",
     "output_type": "stream",
     "text": [
      "Index(['ride_id', 'rideable_type', 'started_at', 'ended_at',\n",
      "       'start_station_name', 'start_station_id', 'end_station_name',\n",
      "       'end_station_id', 'start_lat', 'start_lng', 'end_lat', 'end_lng',\n",
      "       'member_casual'],\n",
      "      dtype='object')\n",
      "Index(['ID', 'Station Name', 'Short Name', 'Total Docks', 'Docks in Service',\n",
      "       'Status', 'Latitude', 'Longitude', 'Location'],\n",
      "      dtype='object')\n"
     ]
    }
   ],
   "source": [
    "print(df_trips.columns)\n",
    "print(df_stations.columns)"
   ]
  },
  {
   "cell_type": "code",
   "execution_count": 6,
   "id": "43b1fb9e",
   "metadata": {},
   "outputs": [
    {
     "name": "stdout",
     "output_type": "stream",
     "text": [
      "           start_lat      start_lng        end_lat        end_lng\n",
      "count  822410.000000  822410.000000  821679.000000  821679.000000\n",
      "mean       41.903565     -87.645536      41.903815     -87.645662\n",
      "std         0.043153       0.026856       0.043289       0.027065\n",
      "min        41.648501     -87.840000      41.630000     -87.850000\n",
      "25%        41.883380     -87.659660      41.883380     -87.659753\n",
      "50%        41.900219     -87.641170      41.900960     -87.641170\n",
      "75%        41.929143     -87.627691      41.929505     -87.627680\n",
      "max        42.070000     -87.520000      42.150000     -87.490000\n",
      "       Total Docks  Docks in Service     Latitude    Longitude\n",
      "count  1041.000000       1041.000000  1041.000000  1041.000000\n",
      "mean     15.730067         15.728146    41.866644   -87.670416\n",
      "std       6.889593          6.887144     0.087094     0.054468\n",
      "min       1.000000          1.000000    41.648501   -87.836740\n",
      "25%      11.000000         11.000000    41.800434   -87.704010\n",
      "50%      15.000000         15.000000    41.883073   -87.666589\n",
      "75%      16.000000         16.000000    41.931902   -87.634290\n",
      "max      55.000000         55.000000    42.064854   -87.528232\n"
     ]
    }
   ],
   "source": [
    "print(df_trips.describe())\n",
    "print(df_stations.describe())"
   ]
  },
  {
   "cell_type": "code",
   "execution_count": 7,
   "id": "c13443f8",
   "metadata": {},
   "outputs": [
    {
     "name": "stdout",
     "output_type": "stream",
     "text": [
      "ride_id                   0\n",
      "rideable_type             0\n",
      "started_at                0\n",
      "ended_at                  0\n",
      "start_station_name    87263\n",
      "start_station_id      87262\n",
      "end_station_name      93158\n",
      "end_station_id        93158\n",
      "start_lat                 0\n",
      "start_lng                 0\n",
      "end_lat                 731\n",
      "end_lng                 731\n",
      "member_casual             0\n",
      "dtype: int64\n",
      "ID                   0\n",
      "Station Name         0\n",
      "Short Name          99\n",
      "Total Docks          0\n",
      "Docks in Service     0\n",
      "Status               0\n",
      "Latitude             0\n",
      "Longitude            0\n",
      "Location             0\n",
      "dtype: int64\n",
      "0\n",
      "0\n"
     ]
    }
   ],
   "source": [
    "print(df_trips.isnull().sum())  # Count missing values per column\n",
    "print(df_stations.isnull().sum())  \n",
    "\n",
    "print(df_trips.duplicated().sum())  # Count duplicate rows\n",
    "print(df_stations.duplicated().sum())  "
   ]
  },
  {
   "cell_type": "markdown",
   "id": "11bbd92c",
   "metadata": {},
   "source": [
    "Cleaning Data"
   ]
  },
  {
   "cell_type": "code",
   "execution_count": 8,
   "id": "f5f02fc7",
   "metadata": {},
   "outputs": [],
   "source": [
    "df_trips = df_trips.drop_duplicates()\n",
    "df_stations = df_stations.drop_duplicates()"
   ]
  },
  {
   "cell_type": "code",
   "execution_count": 9,
   "id": "45c0770f",
   "metadata": {},
   "outputs": [],
   "source": [
    "df_trips[\"start_station_name\"].fillna(\"Unknown\", inplace=True)\n",
    "df_trips[\"end_station_name\"].fillna(\"Unknown\", inplace=True)"
   ]
  },
  {
   "cell_type": "code",
   "execution_count": 10,
   "id": "3a248027",
   "metadata": {},
   "outputs": [],
   "source": [
    "df_trips[\"ride_length\"] = (pd.to_datetime(df_trips[\"ended_at\"]) - pd.to_datetime(df_trips[\"started_at\"])).dt.total_seconds() / 60\n",
    "df_trips = df_trips[df_trips[\"ride_length\"] > 0]  # Remove invalid negative rides"
   ]
  },
  {
   "cell_type": "code",
   "execution_count": 11,
   "id": "d1955bcd",
   "metadata": {},
   "outputs": [
    {
     "name": "stdout",
     "output_type": "stream",
     "text": [
      "Index(['id', 'station_name', 'short_name', 'total_docks', 'docks_in_service',\n",
      "       'status', 'latitude', 'longitude', 'location'],\n",
      "      dtype='object')\n"
     ]
    }
   ],
   "source": [
    "# Standardize column names by removing spaces and converting to lowercase\n",
    "df_stations.columns = df_stations.columns.str.strip().str.lower().str.replace(\" \", \"_\")\n",
    "\n",
    "# Check if column names are now clean\n",
    "print(df_stations.columns)"
   ]
  },
  {
   "cell_type": "code",
   "execution_count": 12,
   "id": "40d4d8b1",
   "metadata": {},
   "outputs": [],
   "source": [
    "df_trips.rename(columns={\"start_station_name\": \"station_name\"}, inplace=True)"
   ]
  },
  {
   "cell_type": "code",
   "execution_count": 13,
   "id": "d57d5f54",
   "metadata": {},
   "outputs": [],
   "source": [
    "df_trips = df_trips.merge(df_stations, on=\"station_name\", how=\"left\")"
   ]
  },
  {
   "cell_type": "code",
   "execution_count": 14,
   "id": "74ae6bc2",
   "metadata": {},
   "outputs": [
    {
     "name": "stdout",
     "output_type": "stream",
     "text": [
      "                   station_name   latitude  longitude\n",
      "0  Michigan Ave & Washington St  41.883984 -87.624684\n",
      "1    California Ave & Cortez St  41.900363 -87.696704\n",
      "2          Wabash Ave & 16th St  41.860384 -87.625813\n",
      "3    California Ave & Cortez St  41.900363 -87.696704\n",
      "4    California Ave & Cortez St  41.900363 -87.696704\n"
     ]
    }
   ],
   "source": [
    "print(df_trips[[\"station_name\", \"latitude\", \"longitude\"]].head())"
   ]
  },
  {
   "cell_type": "code",
   "execution_count": 15,
   "id": "f2c47230",
   "metadata": {},
   "outputs": [
    {
     "name": "stdout",
     "output_type": "stream",
     "text": [
      "ride_id                  0\n",
      "rideable_type            0\n",
      "started_at               0\n",
      "ended_at                 0\n",
      "station_name             0\n",
      "start_station_id     87261\n",
      "end_station_name         0\n",
      "end_station_id       93202\n",
      "start_lat                0\n",
      "start_lng                0\n",
      "end_lat                732\n",
      "end_lng                732\n",
      "member_casual            0\n",
      "ride_length              0\n",
      "id                  133661\n",
      "short_name          134397\n",
      "total_docks         133661\n",
      "docks_in_service    133661\n",
      "status              133661\n",
      "latitude            133661\n",
      "longitude           133661\n",
      "location            133661\n",
      "dtype: int64\n"
     ]
    }
   ],
   "source": [
    "print(df_trips.isnull().sum())"
   ]
  },
  {
   "cell_type": "code",
   "execution_count": 16,
   "id": "6742d196",
   "metadata": {},
   "outputs": [],
   "source": [
    "df_trips.dropna(subset=[\"latitude\", \"longitude\"], inplace=True)"
   ]
  },
  {
   "cell_type": "code",
   "execution_count": 17,
   "id": "7b50fffd",
   "metadata": {},
   "outputs": [],
   "source": [
    "df_trips.to_csv(\"cleaned_cyclistic_data.csv\", index=False)"
   ]
  },
  {
   "cell_type": "code",
   "execution_count": 18,
   "id": "65718e18",
   "metadata": {},
   "outputs": [],
   "source": [
    "df_map = df_trips[[\"station_name\", \"latitude\", \"longitude\", \"ride_id\"]]\n",
    "df_map.to_csv(\"map_data.csv\", index=False)"
   ]
  },
  {
   "cell_type": "markdown",
   "id": "c803da35",
   "metadata": {},
   "source": [
    "Feature Engineering"
   ]
  },
  {
   "cell_type": "code",
   "execution_count": 19,
   "id": "f65f70b6",
   "metadata": {},
   "outputs": [],
   "source": [
    "df_trips[\"started_at\"] = pd.to_datetime(df_trips[\"started_at\"])\n",
    "df_trips[\"ended_at\"] = pd.to_datetime(df_trips[\"ended_at\"])"
   ]
  },
  {
   "cell_type": "code",
   "execution_count": 20,
   "id": "f3153c59",
   "metadata": {},
   "outputs": [],
   "source": [
    "df_trips[\"day_of_week\"] = df_trips[\"started_at\"].dt.day_name()\n",
    "df_trips[\"hour_of_day\"] = df_trips[\"started_at\"].dt.hour\n",
    "df_trips[\"month\"] = df_trips[\"started_at\"].dt.month_name()"
   ]
  },
  {
   "cell_type": "code",
   "execution_count": 21,
   "id": "f685cb6d",
   "metadata": {},
   "outputs": [],
   "source": [
    "df_trips[\"day_of_week\"] = df_trips[\"started_at\"].dt.day_name()\n",
    "df_trips[\"hour_of_day\"] = df_trips[\"started_at\"].dt.hour\n",
    "df_trips[\"month\"] = df_trips[\"started_at\"].dt.month_name()"
   ]
  },
  {
   "cell_type": "code",
   "execution_count": 22,
   "id": "d774a4ca",
   "metadata": {},
   "outputs": [],
   "source": [
    "bins = [0, 10, 30, 120]  # Short, Medium, Long Rides\n",
    "labels = [\"Short (<10 min)\", \"Medium (10-30 min)\", \"Long (>30 min)\"]\n",
    "df_trips[\"ride_category\"] = pd.cut(df_trips[\"ride_length\"], bins=bins, labels=labels, include_lowest=True)"
   ]
  },
  {
   "cell_type": "markdown",
   "id": "2fa87db8",
   "metadata": {},
   "source": [
    "Exploratory Data Analysis (EDA)"
   ]
  },
  {
   "cell_type": "code",
   "execution_count": 23,
   "id": "165105c3",
   "metadata": {},
   "outputs": [
    {
     "data": {
      "image/png": "[encoded data removed]",
      "text/plain": [
       "<Figure size 432x288 with 1 Axes>"
      ]
     },
     "metadata": {
      "needs_background": "light"
     },
     "output_type": "display_data"
    }
   ],
   "source": [
    "plt.figure(figsize=(6,4))\n",
    "sns.countplot(x=\"member_casual\", data=df_trips, palette=\"pastel\")\n",
    "plt.title(\"Total Rides by Type of Bicycle Rider\")\n",
    "plt.xlabel(\"Type of Bicycle Rider\")\n",
    "plt.ylabel(\"Total Rides\")\n",
    "plt.show()"
   ]
  },
  {
   "cell_type": "code",
   "execution_count": 24,
   "id": "71bc256a",
   "metadata": {},
   "outputs": [
    {
     "data": {
      "image/png": "[encoded data removed]",
      "text/plain": [
       "<Figure size 432x288 with 1 Axes>"
      ]
     },
     "metadata": {
      "needs_background": "light"
     },
     "output_type": "display_data"
    }
   ],
   "source": [
    "df_trips.groupby(\"member_casual\")[\"ride_length\"].mean().plot(kind=\"bar\", figsize=(6,4), color=[\"blue\", \"orange\"])\n",
    "plt.title(\"Average Ride Length by Type of Bicycle Rider\")\n",
    "plt.xlabel(\"Type of Bicycle Rider\")\n",
    "plt.ylabel(\"Average Ride Length (minutes)\")\n",
    "plt.show()"
   ]
  },
  {
   "cell_type": "code",
   "execution_count": 25,
   "id": "1a05dd84",
   "metadata": {},
   "outputs": [
    {
     "data": {
      "image/png": "[encoded data removed]",
      "text/plain": [
       "<Figure size 576x360 with 1 Axes>"
      ]
     },
     "metadata": {
      "needs_background": "light"
     },
     "output_type": "display_data"
    }
   ],
   "source": [
    "df_trips.groupby(\"day_of_week\")[\"ride_id\"].count().plot(kind=\"bar\", figsize=(8,5), color=\"blue\")\n",
    "plt.title(\"Total Rides by Day of the Week\")\n",
    "plt.xlabel(\"Day of the Week\")\n",
    "plt.ylabel(\"Total Rides\")\n",
    "plt.show()"
   ]
  },
  {
   "cell_type": "code",
   "execution_count": 26,
   "id": "b31ded9c",
   "metadata": {},
   "outputs": [
    {
     "data": {
      "image/png": "[encoded data removed]",
      "text/plain": [
       "<Figure size 720x360 with 1 Axes>"
      ]
     },
     "metadata": {
      "needs_background": "light"
     },
     "output_type": "display_data"
    }
   ],
   "source": [
    "df_trips.groupby(\"hour_of_day\")[\"ride_id\"].count().plot(kind=\"line\", marker=\"o\", figsize=(10,5), color=\"blue\")\n",
    "plt.title(\"Peak Ride Hours\")\n",
    "plt.xlabel(\"Hour of the Day\")\n",
    "plt.ylabel(\"Total Rides\")\n",
    "plt.xticks(range(0, 24))\n",
    "plt.grid()\n",
    "plt.show()"
   ]
  },
  {
   "cell_type": "code",
   "execution_count": 29,
   "id": "00c39590",
   "metadata": {},
   "outputs": [
    {
     "data": {
      "image/png": "[encoded data removed]",
      "text/plain": [
       "<Figure size 576x360 with 1 Axes>"
      ]
     },
     "metadata": {
      "needs_background": "light"
     },
     "output_type": "display_data"
    }
   ],
   "source": [
    "df_trips[\"station_name\"].value_counts().head(10).plot(kind=\"barh\", figsize=(8,5), color=\"blue\")\n",
    "plt.title(\"Top 10 Most Popular Start Stations\")\n",
    "plt.xlabel(\"Total Rides\")\n",
    "plt.ylabel(\"Start Station Name\")\n",
    "plt.show()"
   ]
  },
  {
   "cell_type": "markdown",
   "id": "990da419",
   "metadata": {},
   "source": [
    "Prepare for Dashboard Development"
   ]
  },
  {
   "cell_type": "code",
   "execution_count": 30,
   "id": "c6696ae1",
   "metadata": {},
   "outputs": [],
   "source": [
    "df_dashboard = df_trips[[\"ride_id\", \"member_casual\", \"ride_length\", \"day_of_week\", \"hour_of_day\", \"month\", \"station_name\", \"latitude\", \"longitude\"]]\n",
    "df_dashboard.to_csv(\"dashboard_data.csv\", index=False)"
   ]
  },
  {
   "cell_type": "code",
   "execution_count": null,
   "id": "c8b30df0",
   "metadata": {},
   "outputs": [],
   "source": []
  }
 ],
 "metadata": {
  "kernelspec": {
   "display_name": "Python 3 (ipykernel)",
   "language": "python",
   "name": "python3"
  },
  "language_info": {
   "codemirror_mode": {
    "name": "ipython",
    "version": 3
   },
   "file_extension": ".py",
   "mimetype": "text/x-python",
   "name": "python",
   "nbconvert_exporter": "python",
   "pygments_lexer": "ipython3",
   "version": "3.7.7"
  }
 },
 "nbformat": 4,
 "nbformat_minor": 5
}
